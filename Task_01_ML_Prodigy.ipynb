{
 "cells": [
  {
   "cell_type": "markdown",
   "id": "bf090dda-27ed-48df-9247-77dfebc5f01d",
   "metadata": {},
   "source": [
    "Name: yossief chanyalew mekonnen\n",
    "\n",
    "Task 1 machine learning \n",
    "\n",
    "Implement a linear regression model to predict the prices of houses based on their square footage and the number of bedrooms and bathrooms\n"
   ]
  },
  {
   "cell_type": "code",
   "execution_count": null,
   "id": "af418dee-17f9-4ab8-aafa-0a5768e07a00",
   "metadata": {},
   "outputs": [],
   "source": [
    "import panda as pd \n",
    "import numpy as np\n",
    "import seaborn as sns\n",
    "import matplotlib.pyplot as plt\n",
    "\n",
    "import warnings\n",
    "warning.filterwarnings(\"ignore\")\n",
    "\n",
    "from sklearn.model_selection import train_test_split\n",
    "from sklearn.linear_model import lenear_regression\n",
    "\n",
    "from sklearn.martics import mean_squared_error, mean_absolute_error, r2_score"
   ]
  },
  {
   "cell_type": "code",
   "execution_count": null,
   "id": "a77c05d6-f912-4ea3-b9f6-396a65038dfd",
   "metadata": {},
   "outputs": [],
   "source": [
    "file = ('content"
   ]
  }
 ],
 "metadata": {
  "kernelspec": {
   "display_name": "Python 3 (ipykernel)",
   "language": "python",
   "name": "python3"
  },
  "language_info": {
   "codemirror_mode": {
    "name": "ipython",
    "version": 3
   },
   "file_extension": ".py",
   "mimetype": "text/x-python",
   "name": "python",
   "nbconvert_exporter": "python",
   "pygments_lexer": "ipython3",
   "version": "3.11.4"
  }
 },
 "nbformat": 4,
 "nbformat_minor": 5
}
